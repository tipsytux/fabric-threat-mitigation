{
 "cells": [
  {
   "cell_type": "code",
   "execution_count": null,
   "id": "31b7ac3b-8282-4c44-b940-cc8979a8ff28",
   "metadata": {},
   "outputs": [],
   "source": [
    "from fabrictestbed_extensions.fablib.fablib import FablibManager as fablib_manager\n",
    "fablib = fablib_manager()\n",
    "slice_name=\"fabric_threat_mitigation_\" + fablib.get_bastion_username()\n",
    "slice=fablib.get_slice(slice_name)"
   ]
  },
  {
   "cell_type": "code",
   "execution_count": null,
   "id": "9acb087f-cba1-4564-af47-76171042cd2c",
   "metadata": {},
   "outputs": [],
   "source": [
    "client1 = slice.get_node(\"client1\")\n",
    "client2 = slice.get_node(\"client2\")\n",
    "clients = [client1, client2]\n",
    "for client in clients:\n",
    "    client.execute(\"git clone https://github.com/teaching-on-testbeds/AStream > /dev/null 2>&1\")\n",
    "    client.execute(\"sudo apt update > /dev/null 2>&1\")\n",
    "    client.execute(\"sudo apt -y install python3 ffmpeg > /dev/null 2>&1\")\n",
    "    client.execute(\"touch proof.txt\")"
   ]
  },
  {
   "cell_type": "code",
   "execution_count": null,
   "id": "75c63541-5068-4fd8-9bf0-ac0e0fbd4026",
   "metadata": {},
   "outputs": [],
   "source": [
    "attacker1 = slice.get_node(\"attacker1\")\n",
    "attacker2 = slice.get_node(\"attacker2\")\n",
    "attacker3 = slice.get_node(\"attacker3\")\n",
    "attackers = [attacker1, attacker2, attacker3]\n",
    "\n",
    "for attacker in attackers:\n",
    "    attacker.execute(\"sudo apt update > /dev/null 2>&1\")\n",
    "    attacker.execute(\"sudo apt -y install hping3 > /dev/null 2>&1\")\n",
    "    attacker.execute(\"touch proof.txt\")"
   ]
  },
  {
   "cell_type": "markdown",
   "id": "a79e6948-9146-45d0-b795-394fe16f4ef9",
   "metadata": {},
   "source": [
    "# Experiment\n",
    "\n",
    "In this section, we run the video streaming from clients twice, first time with no ongoing attacks on the network, and the second time with a ddos attack on the server. For the first part, only run the client side code, and for the second part, run Client Side and Attack Sides together.\n",
    "Try to connect to all the client and attack machines using ssh in parallel using something like tmux, to make it easier to copy paste commands.\n",
    "\n",
    "## Client Side\n",
    "\n",
    "In the below section, I have ran the normal mode from client 1 and attack mode from client 2. We could do it on the same too, but getting the result files altogether was easier this way.\n",
    "> Note: Automate and make this better in future\n",
    "\n",
    "To start using the video streaming service on any of the clients, log on that client, and run the following command.\n",
    "> Note: Adjust the timing by changing sleep 60, to something else, if you want to run this for 2 minutes, change it to sleep 120.\n",
    "```bash\n",
    "python3 ~/AStream/dist/client/dash_client.py -m http://server/media/BigBuckBunny/4sec/BigBuckBunny_4s.mpd -p 'basic' -d & PID=$!; sleep 60; kill $PID\n",
    "```\n",
    "\n",
    "# Attack Side\n",
    "\n",
    "Log in to all the attacker machines, and use \n",
    "```bash\n",
    "sudo su\n",
    "```\n",
    "to login as root.\n",
    "Then execute \n",
    "```bash\n",
    "hping3 -S --flood -p 80 server & PID=$!; sleep 60; kill $PID\n",
    "```\n",
    "to lauch the DDoS Attack for 60 seconds. \n",
    "\n"
   ]
  },
  {
   "cell_type": "markdown",
   "id": "cbd2faf5-f486-425f-bcee-b9e1344c171e",
   "metadata": {},
   "source": [
    "# Analysis"
   ]
  },
  {
   "cell_type": "markdown",
   "id": "2b0897bd-4440-402d-ac03-7a05c015d5f6",
   "metadata": {},
   "source": [
    "## Normal Mode"
   ]
  },
  {
   "cell_type": "code",
   "execution_count": null,
   "id": "080c2b66-f18d-49fc-9a3c-e6c329342c54",
   "metadata": {},
   "outputs": [],
   "source": [
    "client1.execute(\"cp $(ls -t1  ~/ASTREAM_LOGS/DASH_BUFFER_LOG_*  | head -n 1 ) ~/ASTREAM_LOGS/DASH_BUFFER_LOG-last.csv\")\n",
    "DASH_BUFFER_LOG=\"DASH_BUFFER_LOG-last.csv\"\n",
    "slice.get_node(\"client1\").download_file(\"/home/fabric/work/fabric-threat-mitigation/csv/DASH_BUFFER_LOG_NORMAL.csv\", \"/home/ubuntu/ASTREAM_LOGS/\" + DASH_BUFFER_LOG)"
   ]
  },
  {
   "cell_type": "markdown",
   "id": "03d98b38-66d1-4947-b4c6-422fd0ac0fa4",
   "metadata": {},
   "source": [
    "## Attack Mode"
   ]
  },
  {
   "cell_type": "code",
   "execution_count": null,
   "id": "b4a8b7f6-35aa-4e4a-8742-df3933186668",
   "metadata": {},
   "outputs": [],
   "source": [
    "client2.execute(\"cp $(ls -t1  ~/ASTREAM_LOGS/DASH_BUFFER_LOG_*  | head -n 1 ) ~/ASTREAM_LOGS/DASH_BUFFER_LOG-last.csv\")\n",
    "DASH_BUFFER_LOG=\"DASH_BUFFER_LOG-last.csv\"\n",
    "slice.get_node(\"client2\").download_file(\"/home/fabric/work/fabric-threat-mitigation/csv/DASH_BUFFER_LOG_ATTACK.csv\", \"/home/ubuntu/ASTREAM_LOGS/\" + DASH_BUFFER_LOG)"
   ]
  },
  {
   "cell_type": "markdown",
   "id": "b40e0ad7-7ff1-41b5-858b-dc468f187512",
   "metadata": {},
   "source": [
    "## Draw the graph"
   ]
  },
  {
   "cell_type": "code",
   "execution_count": null,
   "id": "2bee3b97-1dbf-4582-bc59-d031261359fd",
   "metadata": {},
   "outputs": [],
   "source": [
    "import matplotlib.pyplot as plt\n",
    "import pandas as pd\n",
    "\n",
    "# Define colors for states\n",
    "c = {'INITIAL_BUFFERING': 'violet', 'PLAY': 'lightcyan', 'BUFFERING': 'lightpink'}\n",
    "\n",
    "# Load the first dataset\n",
    "dash1 = pd.read_csv(\"/home/fabric/work/fabric-threat-mitigation/csv/DASH_BUFFER_LOG_NORMAL.csv\")\n",
    "dash1 = dash1.loc[dash1.CurrentPlaybackState.isin(c.keys())]\n",
    "states1 = pd.DataFrame({\n",
    "    'startState': dash1.CurrentPlaybackState[0:-2].values,\n",
    "    'startTime': dash1.EpochTime[0:-2].values,\n",
    "    'endState': dash1.CurrentPlaybackState[1:-1].values,\n",
    "    'endTime': dash1.EpochTime[1:-1].values\n",
    "})\n",
    "\n",
    "# Load the second dataset\n",
    "dash2 = pd.read_csv(\"/home/fabric/work/fabric-threat-mitigation/csv/DASH_BUFFER_LOG_ATTACK.csv\")\n",
    "dash2 = dash2.loc[dash2.CurrentPlaybackState.isin(c.keys())]\n",
    "states2 = pd.DataFrame({\n",
    "    'startState': dash2.CurrentPlaybackState[0:-2].values,\n",
    "    'startTime': dash2.EpochTime[0:-2].values,\n",
    "    'endState': dash2.CurrentPlaybackState[1:-1].values,\n",
    "    'endTime': dash2.EpochTime[1:-1].values\n",
    "})\n",
    "\n",
    "# Create a new figure with a 2x2 layout\n",
    "fig, axs = plt.subplots(2, 2, figsize=(12, 10))\n",
    "\n",
    "# First subplot: Bitrate for first file\n",
    "for index, s in states1.iterrows():\n",
    "    axs[0, 0].axvspan(s['startTime'], s['endTime'], color=c[s['startState']], alpha=1)\n",
    "\n",
    "axs[0, 0].plot(dash1[dash1.Action != \"Writing\"].EpochTime, dash1[dash1.Action != \"Writing\"].Bitrate, 'kx:')\n",
    "axs[0, 0].set_title(\"Video rate (bps) - Normal Traffic\")\n",
    "axs[0, 0].set_xlabel(\"Time (s)\")\n",
    "\n",
    "# Second subplot: Buffer for first file\n",
    "for index, s in states1.iterrows():\n",
    "    axs[0, 1].axvspan(s['startTime'], s['endTime'], color=c[s['startState']], alpha=1)\n",
    "\n",
    "axs[0, 1].plot(dash1[dash1.Action != \"Writing\"].EpochTime, dash1[dash1.Action != \"Writing\"].CurrentBufferSize, 'kx:')\n",
    "axs[0, 1].set_title(\"Buffer (segments) - Normal Traffic\")\n",
    "axs[0, 1].set_xlabel(\"Time (s)\")\n",
    "\n",
    "# Add common caption for the first two subplots\n",
    "fig.text(0.5, 0.5, \"Normal Traffic\", ha='center', fontsize=14, va='bottom')\n",
    "\n",
    "# Third subplot: Bitrate for second file\n",
    "for index, s in states2.iterrows():\n",
    "    axs[1, 0].axvspan(s['startTime'], s['endTime'], color=c[s['startState']], alpha=1)\n",
    "\n",
    "axs[1, 0].plot(dash2[dash2.Action != \"Writing\"].EpochTime, dash2[dash2.Action != \"Writing\"].Bitrate, 'kx:')\n",
    "axs[1, 0].set_title(\"Video rate (bps) - DDoS Attack\")\n",
    "axs[1, 0].set_xlabel(\"Time (s)\")\n",
    "\n",
    "# Fourth subplot: Buffer for second file\n",
    "for index, s in states2.iterrows():\n",
    "    axs[1, 1].axvspan(s['startTime'], s['endTime'], color=c[s['startState']], alpha=1)\n",
    "\n",
    "axs[1, 1].plot(dash2[dash2.Action != \"Writing\"].EpochTime, dash2[dash2.Action != \"Writing\"].CurrentBufferSize, 'kx:')\n",
    "axs[1, 1].set_title(\"Buffer (segments) - DDoS Attack\")\n",
    "axs[1, 1].set_xlabel(\"Time (s)\")\n",
    "\n",
    "# Add common caption for the last two subplots\n",
    "fig.text(0.5, 0, \"DDoS Traffic\", ha='center', fontsize=14, va='bottom')\n",
    "plt.subplots_adjust(hspace=50, wspace=50)\n",
    "plt.tight_layout(rect=[0, 0, 1, 1])  # Adjust layout to make room for captions\n",
    "\n",
    "# Save the figure as an image\n",
    "plt.savefig(\"plot_output.png\", format='png', dpi=300, bbox_inches='tight')  # Adjust the filename and format as needed\n",
    "\n",
    "plt.show()"
   ]
  }
 ],
 "metadata": {
  "language_info": {
   "name": "python"
  }
 },
 "nbformat": 4,
 "nbformat_minor": 5
}
