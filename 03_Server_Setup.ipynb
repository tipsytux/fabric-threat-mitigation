{
 "cells": [
  {
   "cell_type": "markdown",
   "id": "aad6db46-f117-4efa-bef3-36e711461452",
   "metadata": {},
   "source": [
    "# Prepare the Server\n",
    "\n",
    "At the server, we will set up an HTTP server which will serve the video files to the client.\n",
    "First, update the system and install the Apache HTTP server:"
   ]
  },
  {
   "cell_type": "code",
   "execution_count": null,
   "id": "a7c18303-ba16-435a-a781-7d7f391ce5e4",
   "metadata": {},
   "outputs": [],
   "source": [
    "from fabrictestbed_extensions.fablib.fablib import FablibManager as fablib_manager\n",
    "fablib = fablib_manager()\n",
    "slice_name=\"fabric_threat_mitigation_\" + fablib.get_bastion_username()\n",
    "slice=fablib.get_slice(slice_name)"
   ]
  },
  {
   "cell_type": "code",
   "execution_count": null,
   "id": "37683c4a-9d51-43c0-a6c3-0648eac569ce",
   "metadata": {},
   "outputs": [],
   "source": [
    "server=slice.get_node(\"server\")\n",
    "server.execute(\"sudo apt -qq update\")"
   ]
  },
  {
   "cell_type": "code",
   "execution_count": null,
   "id": "146f64e6-bf74-469c-8955-2191c04bead9",
   "metadata": {},
   "outputs": [],
   "source": [
    "server.execute(\"sudo apt install -qq -y apache2\")"
   ]
  },
  {
   "cell_type": "code",
   "execution_count": null,
   "id": "ac2ef2bc-27f6-4fcd-821c-7cb249904160",
   "metadata": {},
   "outputs": [],
   "source": [
    "server.execute(\"wget -q https://nyu.box.com/shared/static/d6btpwf5lqmkqh53b52ynhmfthh2qtby.tgz -O media.tgz\")"
   ]
  },
  {
   "cell_type": "code",
   "execution_count": null,
   "id": "3ab6ffc5-4e8f-4186-a07a-fee742a7314d",
   "metadata": {},
   "outputs": [],
   "source": [
    "server.execute(\"sudo tar -v -xzf media.tgz -C /var/www/html/\")"
   ]
  }
 ],
 "metadata": {
  "language_info": {
   "name": "python"
  }
 },
 "nbformat": 4,
 "nbformat_minor": 5
}
