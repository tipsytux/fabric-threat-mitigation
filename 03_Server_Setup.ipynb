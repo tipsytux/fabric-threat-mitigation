{
 "cells": [
  {
   "cell_type": "code",
   "execution_count": null,
   "id": "9f0b1079-799c-47b3-85ff-ac32e38829f0",
   "metadata": {},
   "outputs": [],
   "source": []
  }
 ],
 "metadata": {
  "language_info": {
   "name": "python"
  }
 },
 "nbformat": 4,
 "nbformat_minor": 5
}
