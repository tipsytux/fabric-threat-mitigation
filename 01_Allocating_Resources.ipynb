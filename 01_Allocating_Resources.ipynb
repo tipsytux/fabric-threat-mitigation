{
 "cells": [
  {
   "cell_type": "markdown",
   "id": "76431b69-522f-4329-99a3-d0ceae778af2",
   "metadata": {},
   "source": [
    "# Allocating Resources\n",
    "\n",
    "In this notebook, we allocate all the resources."
   ]
  },
  {
   "cell_type": "code",
   "execution_count": null,
   "id": "7bcf20f4-0561-4885-b01d-430eb7e6dfb2",
   "metadata": {},
   "outputs": [],
   "source": [
    "from fabrictestbed_extensions.fablib.fablib import FablibManager as fablib_manager\n",
    "fablib = fablib_manager() \n",
    "conf = fablib.show_config()"
   ]
  },
  {
   "cell_type": "code",
   "execution_count": null,
   "id": "faba02b8-f4a8-4c8e-a0e2-2ecb2b91f678",
   "metadata": {},
   "outputs": [],
   "source": [
    "node_conf = [\n",
    "    {'name': \"server\",   'cores': 2, 'ram': 4, 'disk': 10, 'image': 'default_ubuntu_22', 'packages': ['net-tools']}, \n",
    "    {'name': \"client1\",  'cores': 2, 'ram': 4, 'disk': 10, 'image': 'default_ubuntu_22', 'packages': ['net-tools']}, \n",
    "    {'name': \"client2\",  'cores': 2, 'ram': 4, 'disk': 10, 'image': 'default_ubuntu_22', 'packages': ['net-tools']},\n",
    "    {'name': \"attacker1\",  'cores': 2, 'ram': 4, 'disk': 10, 'image': 'default_ubuntu_22', 'packages': ['net-tools']}, \n",
    "    {'name': \"attacker2\",  'cores': 2, 'ram': 4, 'disk': 10, 'image': 'default_ubuntu_22', 'packages': ['net-tools']},\n",
    "    {'name': \"attacker3\",  'cores': 2, 'ram': 4, 'disk': 10, 'image': 'default_ubuntu_22', 'packages': ['net-tools']}, \n",
    "    {'name': \"routerA\", 'cores': 2, 'ram': 4, 'disk': 10, 'image': 'default_ubuntu_22', 'packages': ['net-tools']},\n",
    "    {'name': \"routerB\", 'cores': 2, 'ram': 4, 'disk': 10, 'image': 'default_ubuntu_22', 'packages': ['net-tools']},\n",
    "    {'name': \"routerC\", 'cores': 2, 'ram': 4, 'disk': 10, 'image': 'default_ubuntu_22', 'packages': ['net-tools']},\n",
    "    {'name': \"routerD\", 'cores': 2, 'ram': 4, 'disk': 10, 'image': 'default_ubuntu_22', 'packages': ['net-tools']},\n",
    "    {'name': \"routerE\", 'cores': 2, 'ram': 4, 'disk': 10, 'image': 'default_ubuntu_22', 'packages': ['net-tools']},\n",
    "    {'name': \"routerF\", 'cores': 2, 'ram': 4, 'disk': 10, 'image': 'default_ubuntu_22', 'packages': ['net-tools']},\n",
    "    {'name': \"routerX\", 'cores': 2, 'ram': 4, 'disk': 10, 'image': 'default_ubuntu_22', 'packages': ['net-tools']},\n",
    "    {'name': \"routerY\", 'cores': 2, 'ram': 4, 'disk': 10, 'image': 'default_ubuntu_22', 'packages': ['net-tools']}\n",
    "]"
   ]
  },
  {
   "cell_type": "code",
   "execution_count": null,
   "id": "cec80e9b-9d38-4c87-b947-d7e96922cddb",
   "metadata": {},
   "outputs": [],
   "source": [
    "net_conf = [\n",
    "    # Server to Central Router (Router A)\n",
    "    {\"name\": \"net_server_routerA\", \"subnet\": \"10.0.0.0/24\", \"nodes\": [{\"name\": \"server\", \"addr\": \"10.0.0.2\"}, {\"name\": \"routerA\", \"addr\": \"10.0.0.1\"}]},\n",
    "\n",
    "    # Client 1 to Router B, Router B to Router X, Router X to Router A\n",
    "    {\"name\": \"net_client1_routerB\", \"subnet\": \"10.0.1.0/24\", \"nodes\": [{\"name\": \"client1\", \"addr\": \"10.0.1.2\"}, {\"name\": \"routerB\", \"addr\": \"10.0.1.1\"}]},\n",
    "    {\"name\": \"net_routerB_routerX\", \"subnet\": \"10.0.2.0/24\", \"nodes\": [{\"name\": \"routerB\", \"addr\": \"10.0.2.2\"}, {\"name\": \"routerX\", \"addr\": \"10.0.2.1\"}]},\n",
    "    {\"name\": \"net_routerX_routerA\", \"subnet\": \"10.0.3.0/24\", \"nodes\": [{\"name\": \"routerX\", \"addr\": \"10.0.3.2\"}, {\"name\": \"routerA\", \"addr\": \"10.0.3.1\"}]},\n",
    "\n",
    "    # Client 2 (now connected to Router F and Router Y)\n",
    "    {\"name\": \"net_client2_routerF\", \"subnet\": \"10.0.11.0/24\", \"nodes\": [{\"name\": \"client2\", \"addr\": \"10.0.11.2\"}, {\"name\": \"routerF\", \"addr\": \"10.0.11.1\"}]},\n",
    "    {\"name\": \"net_routerF_routerY\", \"subnet\": \"10.0.12.0/24\", \"nodes\": [{\"name\": \"routerF\", \"addr\": \"10.0.12.2\"}, {\"name\": \"routerY\", \"addr\": \"10.0.12.1\"}]},\n",
    "    {\"name\": \"net_routerY_routerA\", \"subnet\": \"10.0.8.0/24\", \"nodes\": [{\"name\": \"routerY\", \"addr\": \"10.0.8.2\"}, {\"name\": \"routerA\", \"addr\": \"10.0.8.1\"}]},\n",
    "\n",
    "    # Attacker 1 to Router D, Router D to Router Y, Router Y to Router A\n",
    "    {\"name\": \"net_attacker1_routerD\", \"subnet\": \"10.0.6.0/24\", \"nodes\": [{\"name\": \"attacker1\", \"addr\": \"10.0.6.2\"}, {\"name\": \"routerD\", \"addr\": \"10.0.6.1\"}]},\n",
    "    {\"name\": \"net_routerD_routerY\", \"subnet\": \"10.0.7.0/24\", \"nodes\": [{\"name\": \"routerD\", \"addr\": \"10.0.7.2\"}, {\"name\": \"routerY\", \"addr\": \"10.0.7.1\"}]},\n",
    "\n",
    "    # Attacker 2 to Router E, Router E to Router Y, Router Y to Router A\n",
    "    {\"name\": \"net_attacker2_routerE\", \"subnet\": \"10.0.9.0/24\", \"nodes\": [{\"name\": \"attacker2\", \"addr\": \"10.0.9.2\"}, {\"name\": \"routerE\", \"addr\": \"10.0.9.1\"}]},\n",
    "    {\"name\": \"net_routerE_routerY\", \"subnet\": \"10.0.10.0/24\", \"nodes\": [{\"name\": \"routerE\", \"addr\": \"10.0.10.2\"}, {\"name\": \"routerY\", \"addr\": \"10.0.10.1\"}]},\n",
    "\n",
    "    # Attacker 3 (now connected to Router C and Router X)\n",
    "    {\"name\": \"net_attacker3_routerC\", \"subnet\": \"10.0.4.0/24\", \"nodes\": [{\"name\": \"attacker3\", \"addr\": \"10.0.4.2\"}, {\"name\": \"routerC\", \"addr\": \"10.0.4.1\"}]},\n",
    "    {\"name\": \"net_routerC_routerX\", \"subnet\": \"10.0.5.0/24\", \"nodes\": [{\"name\": \"routerC\", \"addr\": \"10.0.5.2\"}, {\"name\": \"routerX\", \"addr\": \"10.0.5.1\"}]}\n",
    "]"
   ]
  },
  {
   "cell_type": "code",
   "execution_count": null,
   "id": "5559ff2a-c6bc-4232-9407-3832a3759249",
   "metadata": {},
   "outputs": [],
   "source": [
    "slice_name=\"fabric_threat_mitigation_\" + fablib.get_bastion_username()"
   ]
  },
  {
   "cell_type": "code",
   "execution_count": null,
   "id": "f55fd6d1-1c3d-4c91-aba4-091dc776da8b",
   "metadata": {},
   "outputs": [],
   "source": [
    "try:\n",
    "    slice = fablib.get_slice(slice_name)\n",
    "    print(\"You already have a slice by this name!\")\n",
    "    print(\"If you previously reserved resources, skip to the 'log in to resources' section.\")\n",
    "except:\n",
    "    print(\"You don't have a slice named %s yet.\" % slice_name)\n",
    "    print(\"Continue to the next step to make one.\")\n",
    "    slice = fablib.new_slice(name=slice_name)\n",
    "\n",
    "exp_conf = {'cores': sum([ n['cores'] for n in node_conf]), 'nic': sum([len(n['nodes']) for n in net_conf]) }\n",
    "print(exp_conf)"
   ]
  },
  {
   "cell_type": "code",
   "execution_count": null,
   "id": "86c00c77-c37c-472c-a3ae-0b4dfaf68a74",
   "metadata": {},
   "outputs": [],
   "source": [
    "# Select a random site which has enough resources for the experiment\n",
    "while True:\n",
    "    site_name = fablib.get_random_site()\n",
    "    if ( (fablib.resources.get_core_available(site_name) > 1.2*exp_conf['cores']) and\n",
    "        (fablib.resources.get_component_available(site_name, 'SharedNIC-ConnectX-6') > 1.2**exp_conf['nic']) ):\n",
    "        break\n",
    "\n",
    "fablib.show_site(site_name)"
   ]
  },
  {
   "cell_type": "code",
   "execution_count": null,
   "id": "cbe69001-f789-4beb-9946-5181b6fec2b3",
   "metadata": {},
   "outputs": [],
   "source": [
    "for n in node_conf:\n",
    "    slice.add_node(name=n['name'], site=site_name, \n",
    "                   cores=n['cores'], \n",
    "                   ram=n['ram'], \n",
    "                   disk=n['disk'], \n",
    "                   image=n['image'])"
   ]
  },
  {
   "cell_type": "code",
   "execution_count": null,
   "id": "3c243c1e-217e-4208-a429-f959fe089851",
   "metadata": {},
   "outputs": [],
   "source": [
    "for n in net_conf:\n",
    "    ifaces = [slice.get_node(node[\"name\"]).add_component(model=\"NIC_Basic\", \n",
    "                                                 name=n[\"name\"]).get_interfaces()[0] for node in n['nodes'] ]\n",
    "    slice.add_l2network(name=n[\"name\"], type='L2Bridge', interfaces=ifaces)"
   ]
  },
  {
   "cell_type": "code",
   "execution_count": null,
   "id": "9b72bd3f-a9a0-4bbf-a75c-b2d1ebce6368",
   "metadata": {},
   "outputs": [],
   "source": [
    "# Submit the Slice\n",
    "slice.submit()"
   ]
  },
  {
   "cell_type": "markdown",
   "id": "73470531-1acf-4b31-a071-021e9929f568",
   "metadata": {},
   "source": [
    "----"
   ]
  },
  {
   "cell_type": "markdown",
   "id": "0cc899f4-439e-4944-8695-bf059688424a",
   "metadata": {},
   "source": [
    "# Login Commands"
   ]
  },
  {
   "cell_type": "code",
   "execution_count": null,
   "id": "c4f133d6-1423-4349-8ffa-82827b5250c4",
   "metadata": {},
   "outputs": [],
   "source": [
    "import pandas as pd\n",
    "pd.set_option('display.max_colwidth', None)\n",
    "slice_info = [{'Name': n.get_name(), 'IP Address': n.get_management_ip() ,'SSH command': n.get_ssh_command()} for n in slice.get_nodes()]\n",
    "pd.DataFrame(slice_info).set_index('Name')"
   ]
  }
 ],
 "metadata": {
  "language_info": {
   "name": "python"
  }
 },
 "nbformat": 4,
 "nbformat_minor": 5
}
