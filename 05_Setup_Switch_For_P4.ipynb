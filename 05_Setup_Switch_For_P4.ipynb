{
 "cells": [
  {
   "cell_type": "markdown",
   "id": "562455aa-3fc7-479a-b048-b22949d129fc",
   "metadata": {},
   "source": [
    "# In this section we setup the switch to compile and run P4\n",
    "\n",
    "Log in to the switch."
   ]
  },
  {
   "cell_type": "code",
   "execution_count": null,
   "id": "02df6ffb-df60-4667-b059-96ae79c08aad",
   "metadata": {},
   "outputs": [],
   "source": [
    "from fabrictestbed_extensions.fablib.fablib import FablibManager as fablib_manager\n",
    "fablib = fablib_manager()\n",
    "slice_name=\"fabric_threat_mitigation_\" + fablib.get_bastion_username()\n",
    "slice=fablib.get_slice(slice_name)"
   ]
  },
  {
   "cell_type": "code",
   "execution_count": null,
   "id": "126aedce-5644-4f9b-a17f-8a3e1411fe61",
   "metadata": {},
   "outputs": [],
   "source": [
    "switch = slice.get_node(name=\"switch\")     \n",
    "switch.upload_file('./scripts/P4/install_bmv2.sh', 'install_bmv2.sh')\n",
    "switch.upload_file('./scripts/P4/main.p4', 'main.p4')\n",
    "stdout, stderr = switch.execute(f'chmod +x install_bmv2.sh &&  ./install_bmv2.sh',quiet=True)"
   ]
  },
  {
   "cell_type": "markdown",
   "id": "efa7e2d7-8d9c-48c8-ad29-5bc53e55d097",
   "metadata": {},
   "source": [
    "# Compiling and Running P4\n",
    "\n",
    "## Compiling\n",
    "\n",
    "```\n",
    "p4c-bm2-ss --arch v1model main.p4 -o main.json\n",
    "```\n",
    "\n",
    "## Running\n",
    "\n",
    "```\n",
    "sudo simple_switch --interface 2@enp7s0 --interface 0@enp8s0 --interface 1@enp9s0 main.json\n",
    "```\n",
    "\n",
    "> Note: Choose Interfaces as per the output of `ifconfig` on switch\n"
   ]
  }
 ],
 "metadata": {
  "language_info": {
   "name": "python"
  }
 },
 "nbformat": 4,
 "nbformat_minor": 5
}
