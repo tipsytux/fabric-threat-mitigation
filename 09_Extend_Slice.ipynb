{
 "cells": [
  {
   "cell_type": "code",
   "execution_count": null,
   "id": "4568b296-0ae4-48e5-ae6c-5b3ab7ac7470",
   "metadata": {},
   "outputs": [],
   "source": [
    "from fabrictestbed_extensions.fablib.fablib import FablibManager as fablib_manager\n",
    "fablib = fablib_manager() "
   ]
  },
  {
   "cell_type": "code",
   "execution_count": null,
   "id": "39a44361-5a12-4c1a-bd98-00ed53fbc775",
   "metadata": {},
   "outputs": [],
   "source": [
    "slice_name=\"fabric_threat_mitigation_\" + fablib.get_bastion_username()\n",
    "slice = fablib.get_slice(slice_name)"
   ]
  },
  {
   "cell_type": "code",
   "execution_count": null,
   "id": "da6547c7-d192-4512-a33c-b088cf515f16",
   "metadata": {},
   "outputs": [],
   "source": [
    "from datetime import datetime\n",
    "from datetime import timezone\n",
    "from datetime import timedelta\n",
    "\n",
    "# Set end date to 7 days from now\n",
    "end_date = (datetime.now(timezone.utc) + timedelta(days=7)).strftime(\"%Y-%m-%d %H:%M:%S %z\")\n",
    "slice.renew(end_date)"
   ]
  }
 ],
 "metadata": {
  "language_info": {
   "name": "python"
  }
 },
 "nbformat": 4,
 "nbformat_minor": 5
}
