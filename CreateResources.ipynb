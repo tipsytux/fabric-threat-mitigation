{
 "cells": [
  {
   "cell_type": "markdown",
   "id": "54134423-0fc6-4b7c-9cee-f8f97c4d1463",
   "metadata": {},
   "source": [
    "# Create Resources\n",
    "\n",
    "This is step 1 for the project, where we will request the nodes, and get the slice. \n",
    "This is a separate file, because we will only run this once, and extend the life of the slice, and use other files for our experimentation."
   ]
  }
 ],
 "metadata": {
  "kernelspec": {
   "display_name": "Python 3 (ipykernel)",
   "language": "python",
   "name": "python3"
  },
  "language_info": {
   "codemirror_mode": {
    "name": "ipython",
    "version": 3
   },
   "file_extension": ".py",
   "mimetype": "text/x-python",
   "name": "python",
   "nbconvert_exporter": "python",
   "pygments_lexer": "ipython3",
   "version": "3.11.8"
  }
 },
 "nbformat": 4,
 "nbformat_minor": 5
}
