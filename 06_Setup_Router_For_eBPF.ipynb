{
 "cells": [
  {
   "cell_type": "markdown",
   "id": "b7c238de-709a-41fe-a687-3e5afabbaf42",
   "metadata": {},
   "source": [
    "# Setting up Steps\n",
    "\n",
    "\n",
    "## Download dependencies\n",
    "\n",
    "```\n",
    "wget https://aka.pw/bpf-ecli -O ecli && chmod +x ./ecli\n",
    "wget https://github.com/eunomia-bpf/eunomia-bpf/releases/latest/download/ecc && chmod +x ./ecc\n",
    "sudo apt install clang llvm\n",
    "```\n",
    "## Download script\n",
    "\n",
    "> Mitigation.c is present in scripts/eBPF/mitigation.c\n",
    "## Compile\n",
    "\n",
    "```\n",
    "./ecc mitigation.c\n",
    "```\n",
    "\n",
    "## Run\n",
    "\n",
    "```\n",
    "sudo ./ecli run package.json\n",
    "```"
   ]
  },
  {
   "cell_type": "code",
   "execution_count": null,
   "id": "c0afb0cc-2aed-4674-b89f-c1c5350a8555",
   "metadata": {},
   "outputs": [],
   "source": []
  }
 ],
 "metadata": {
  "language_info": {
   "name": "python"
  }
 },
 "nbformat": 4,
 "nbformat_minor": 5
}
