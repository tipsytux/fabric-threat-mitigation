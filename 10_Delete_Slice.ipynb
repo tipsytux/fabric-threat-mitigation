{
 "cells": [
  {
   "cell_type": "code",
   "execution_count": null,
   "id": "15ac6402-05a7-40af-b61d-381db77d8d05",
   "metadata": {},
   "outputs": [],
   "source": [
    "from fabrictestbed_extensions.fablib.fablib import FablibManager as fablib_manager\n",
    "fablib = fablib_manager() "
   ]
  },
  {
   "cell_type": "code",
   "execution_count": null,
   "id": "2e202c17-ff5b-4983-9e31-e35ceac42270",
   "metadata": {},
   "outputs": [],
   "source": [
    "slice_name=\"fabric_threat_mitigation_\" + fablib.get_bastion_username()"
   ]
  },
  {
   "cell_type": "code",
   "execution_count": null,
   "id": "dba763f2-e860-498e-a46f-cec183cead9d",
   "metadata": {},
   "outputs": [],
   "source": [
    "slice = fablib.get_slice(name=slice_name)\n",
    "slice.show()"
   ]
  },
  {
   "cell_type": "code",
   "execution_count": null,
   "id": "61920a4f-2285-4d55-a057-1432816ab3f2",
   "metadata": {},
   "outputs": [],
   "source": [
    "fablib.delete_slice(slice_name)"
   ]
  },
  {
   "cell_type": "code",
   "execution_count": null,
   "id": "1d0cce6c-1932-49d4-837b-e33284a78cb8",
   "metadata": {},
   "outputs": [],
   "source": [
    "# slice should end up in \"Dead\" state\n",
    "# re-run this cell until you see it in \"Dead\" state\n",
    "slice.update()\n",
    "_ = slice.show()"
   ]
  },
  {
   "cell_type": "code",
   "execution_count": null,
   "id": "0c68147b-8355-4ce6-8751-e6487790e690",
   "metadata": {},
   "outputs": [],
   "source": []
  }
 ],
 "metadata": {
  "language_info": {
   "name": "python"
  }
 },
 "nbformat": 4,
 "nbformat_minor": 5
}
